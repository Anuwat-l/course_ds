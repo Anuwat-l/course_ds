{
 "cells": [
  {
   "cell_type": "code",
   "execution_count": 165,
   "metadata": {},
   "outputs": [],
   "source": [
    "%matplotlib inline\n",
    "import pandas as pd\n",
    "import matplotlib.pyplot as plt\n",
    "import numpy as np\n",
    "import sklearn.linear_model\n",
    "import math\n",
    "import sklearn.dummy"
   ]
  },
  {
   "cell_type": "code",
   "execution_count": 111,
   "metadata": {},
   "outputs": [
    {
     "data": {
      "text/html": [
       "<div>\n",
       "<style scoped>\n",
       "    .dataframe tbody tr th:only-of-type {\n",
       "        vertical-align: middle;\n",
       "    }\n",
       "\n",
       "    .dataframe tbody tr th {\n",
       "        vertical-align: top;\n",
       "    }\n",
       "\n",
       "    .dataframe thead th {\n",
       "        text-align: right;\n",
       "    }\n",
       "</style>\n",
       "<table border=\"1\" class=\"dataframe\">\n",
       "  <thead>\n",
       "    <tr style=\"text-align: right;\">\n",
       "      <th></th>\n",
       "      <th>GENDER</th>\n",
       "      <th>AGE</th>\n",
       "      <th>SERVICE</th>\n",
       "      <th>SESSION</th>\n",
       "    </tr>\n",
       "  </thead>\n",
       "  <tbody>\n",
       "    <tr>\n",
       "      <td>366213</td>\n",
       "      <td>Male</td>\n",
       "      <td>28</td>\n",
       "      <td>Google</td>\n",
       "      <td>32</td>\n",
       "    </tr>\n",
       "    <tr>\n",
       "      <td>40647</td>\n",
       "      <td>Male</td>\n",
       "      <td>40</td>\n",
       "      <td>Google</td>\n",
       "      <td>1323</td>\n",
       "    </tr>\n",
       "    <tr>\n",
       "      <td>64543</td>\n",
       "      <td>Male</td>\n",
       "      <td>29</td>\n",
       "      <td>Google</td>\n",
       "      <td>496</td>\n",
       "    </tr>\n",
       "    <tr>\n",
       "      <td>84321</td>\n",
       "      <td>Female</td>\n",
       "      <td>42</td>\n",
       "      <td>Tik Tok</td>\n",
       "      <td>1634</td>\n",
       "    </tr>\n",
       "    <tr>\n",
       "      <td>316662</td>\n",
       "      <td>Male</td>\n",
       "      <td>70</td>\n",
       "      <td>Facebook</td>\n",
       "      <td>92</td>\n",
       "    </tr>\n",
       "  </tbody>\n",
       "</table>\n",
       "</div>"
      ],
      "text/plain": [
       "        GENDER  AGE   SERVICE  SESSION\n",
       "366213    Male   28    Google       32\n",
       "40647     Male   40    Google     1323\n",
       "64543     Male   29    Google      496\n",
       "84321   Female   42   Tik Tok     1634\n",
       "316662    Male   70  Facebook       92"
      ]
     },
     "execution_count": 111,
     "metadata": {},
     "output_type": "execute_result"
    }
   ],
   "source": [
    "data = pd.read_csv('data/DATA_COURSE_DS.csv') #201911\n",
    "data.sample(5)"
   ]
  },
  {
   "cell_type": "code",
   "execution_count": 93,
   "metadata": {},
   "outputs": [
    {
     "data": {
      "text/plain": [
       "(394314, 4)"
      ]
     },
     "execution_count": 93,
     "metadata": {},
     "output_type": "execute_result"
    }
   ],
   "source": [
    "data.shape"
   ]
  },
  {
   "cell_type": "code",
   "execution_count": 102,
   "metadata": {},
   "outputs": [
    {
     "data": {
      "text/html": [
       "<div>\n",
       "<style scoped>\n",
       "    .dataframe tbody tr th:only-of-type {\n",
       "        vertical-align: middle;\n",
       "    }\n",
       "\n",
       "    .dataframe tbody tr th {\n",
       "        vertical-align: top;\n",
       "    }\n",
       "\n",
       "    .dataframe thead th {\n",
       "        text-align: right;\n",
       "    }\n",
       "</style>\n",
       "<table border=\"1\" class=\"dataframe\">\n",
       "  <thead>\n",
       "    <tr style=\"text-align: right;\">\n",
       "      <th></th>\n",
       "      <th>AGE</th>\n",
       "      <th>SESSION</th>\n",
       "    </tr>\n",
       "    <tr>\n",
       "      <th>SERVICE</th>\n",
       "      <th></th>\n",
       "      <th></th>\n",
       "    </tr>\n",
       "  </thead>\n",
       "  <tbody>\n",
       "    <tr>\n",
       "      <td>Facebook</td>\n",
       "      <td>37.179300</td>\n",
       "      <td>147860312</td>\n",
       "    </tr>\n",
       "    <tr>\n",
       "      <td>Google</td>\n",
       "      <td>40.210264</td>\n",
       "      <td>106075295</td>\n",
       "    </tr>\n",
       "    <tr>\n",
       "      <td>Tik Tok</td>\n",
       "      <td>36.108807</td>\n",
       "      <td>30658540</td>\n",
       "    </tr>\n",
       "    <tr>\n",
       "      <td>WeChat</td>\n",
       "      <td>25.470243</td>\n",
       "      <td>16931824</td>\n",
       "    </tr>\n",
       "    <tr>\n",
       "      <td>LINE</td>\n",
       "      <td>42.144873</td>\n",
       "      <td>6195707</td>\n",
       "    </tr>\n",
       "    <tr>\n",
       "      <td>...</td>\n",
       "      <td>...</td>\n",
       "      <td>...</td>\n",
       "    </tr>\n",
       "    <tr>\n",
       "      <td>Wattpad</td>\n",
       "      <td>74.000000</td>\n",
       "      <td>1</td>\n",
       "    </tr>\n",
       "    <tr>\n",
       "      <td>RTCP</td>\n",
       "      <td>23.000000</td>\n",
       "      <td>1</td>\n",
       "    </tr>\n",
       "    <tr>\n",
       "      <td>OneDrive</td>\n",
       "      <td>40.000000</td>\n",
       "      <td>1</td>\n",
       "    </tr>\n",
       "    <tr>\n",
       "      <td>WeChat voice</td>\n",
       "      <td>34.000000</td>\n",
       "      <td>1</td>\n",
       "    </tr>\n",
       "    <tr>\n",
       "      <td>Telegram</td>\n",
       "      <td>21.000000</td>\n",
       "      <td>1</td>\n",
       "    </tr>\n",
       "  </tbody>\n",
       "</table>\n",
       "<p>335 rows × 2 columns</p>\n",
       "</div>"
      ],
      "text/plain": [
       "                    AGE    SESSION\n",
       "SERVICE                           \n",
       "Facebook      37.179300  147860312\n",
       "Google        40.210264  106075295\n",
       "Tik Tok       36.108807   30658540\n",
       "WeChat        25.470243   16931824\n",
       "LINE          42.144873    6195707\n",
       "...                 ...        ...\n",
       "Wattpad       74.000000          1\n",
       "RTCP          23.000000          1\n",
       "OneDrive      40.000000          1\n",
       "WeChat voice  34.000000          1\n",
       "Telegram      21.000000          1\n",
       "\n",
       "[335 rows x 2 columns]"
      ]
     },
     "execution_count": 102,
     "metadata": {},
     "output_type": "execute_result"
    }
   ],
   "source": [
    "data_group = data.groupby(['SERVICE']).agg({'AGE':'mean', 'SESSION': 'sum'}).sort_values(by='SESSION', ascending=False)\n",
    "data_group"
   ]
  },
  {
   "cell_type": "code",
   "execution_count": 99,
   "metadata": {},
   "outputs": [
    {
     "data": {
      "text/html": [
       "<div>\n",
       "<style scoped>\n",
       "    .dataframe tbody tr th:only-of-type {\n",
       "        vertical-align: middle;\n",
       "    }\n",
       "\n",
       "    .dataframe tbody tr th {\n",
       "        vertical-align: top;\n",
       "    }\n",
       "\n",
       "    .dataframe thead th {\n",
       "        text-align: right;\n",
       "    }\n",
       "</style>\n",
       "<table border=\"1\" class=\"dataframe\">\n",
       "  <thead>\n",
       "    <tr style=\"text-align: right;\">\n",
       "      <th></th>\n",
       "      <th>SERVICE</th>\n",
       "      <th>AGE</th>\n",
       "      <th>SESSION</th>\n",
       "    </tr>\n",
       "  </thead>\n",
       "  <tbody>\n",
       "    <tr>\n",
       "      <td>0</td>\n",
       "      <td>Facebook</td>\n",
       "      <td>37.179300</td>\n",
       "      <td>147860312</td>\n",
       "    </tr>\n",
       "    <tr>\n",
       "      <td>1</td>\n",
       "      <td>Google</td>\n",
       "      <td>40.210264</td>\n",
       "      <td>106075295</td>\n",
       "    </tr>\n",
       "    <tr>\n",
       "      <td>2</td>\n",
       "      <td>Tik Tok</td>\n",
       "      <td>36.108807</td>\n",
       "      <td>30658540</td>\n",
       "    </tr>\n",
       "    <tr>\n",
       "      <td>3</td>\n",
       "      <td>WeChat</td>\n",
       "      <td>25.470243</td>\n",
       "      <td>16931824</td>\n",
       "    </tr>\n",
       "    <tr>\n",
       "      <td>4</td>\n",
       "      <td>LINE</td>\n",
       "      <td>42.144873</td>\n",
       "      <td>6195707</td>\n",
       "    </tr>\n",
       "    <tr>\n",
       "      <td>5</td>\n",
       "      <td>QQ</td>\n",
       "      <td>37.726458</td>\n",
       "      <td>5750901</td>\n",
       "    </tr>\n",
       "    <tr>\n",
       "      <td>6</td>\n",
       "      <td>Instagram</td>\n",
       "      <td>35.935509</td>\n",
       "      <td>5662849</td>\n",
       "    </tr>\n",
       "    <tr>\n",
       "      <td>7</td>\n",
       "      <td>YouTube</td>\n",
       "      <td>39.825651</td>\n",
       "      <td>4262572</td>\n",
       "    </tr>\n",
       "    <tr>\n",
       "      <td>8</td>\n",
       "      <td>Twitter</td>\n",
       "      <td>35.992966</td>\n",
       "      <td>2392350</td>\n",
       "    </tr>\n",
       "    <tr>\n",
       "      <td>9</td>\n",
       "      <td>TrueID Streaming Live</td>\n",
       "      <td>37.159032</td>\n",
       "      <td>2085827</td>\n",
       "    </tr>\n",
       "    <tr>\n",
       "      <td>10</td>\n",
       "      <td>Apple</td>\n",
       "      <td>39.416807</td>\n",
       "      <td>1908239</td>\n",
       "    </tr>\n",
       "    <tr>\n",
       "      <td>11</td>\n",
       "      <td>Skout</td>\n",
       "      <td>35.466887</td>\n",
       "      <td>1823294</td>\n",
       "    </tr>\n",
       "    <tr>\n",
       "      <td>12</td>\n",
       "      <td>ROBLOX</td>\n",
       "      <td>41.244361</td>\n",
       "      <td>686938</td>\n",
       "    </tr>\n",
       "    <tr>\n",
       "      <td>13</td>\n",
       "      <td>BIGO LIVE</td>\n",
       "      <td>36.363176</td>\n",
       "      <td>662003</td>\n",
       "    </tr>\n",
       "    <tr>\n",
       "      <td>14</td>\n",
       "      <td>AIS_MOBILE</td>\n",
       "      <td>38.925081</td>\n",
       "      <td>601798</td>\n",
       "    </tr>\n",
       "    <tr>\n",
       "      <td>15</td>\n",
       "      <td>LINE WEBTOON</td>\n",
       "      <td>37.834832</td>\n",
       "      <td>521546</td>\n",
       "    </tr>\n",
       "    <tr>\n",
       "      <td>16</td>\n",
       "      <td>NetEase Games</td>\n",
       "      <td>36.549763</td>\n",
       "      <td>286155</td>\n",
       "    </tr>\n",
       "    <tr>\n",
       "      <td>17</td>\n",
       "      <td>FIFA Online 4</td>\n",
       "      <td>36.060870</td>\n",
       "      <td>279240</td>\n",
       "    </tr>\n",
       "    <tr>\n",
       "      <td>18</td>\n",
       "      <td>Google Maps</td>\n",
       "      <td>39.291667</td>\n",
       "      <td>277916</td>\n",
       "    </tr>\n",
       "    <tr>\n",
       "      <td>19</td>\n",
       "      <td>4shared</td>\n",
       "      <td>38.610465</td>\n",
       "      <td>243442</td>\n",
       "    </tr>\n",
       "  </tbody>\n",
       "</table>\n",
       "</div>"
      ],
      "text/plain": [
       "                  SERVICE        AGE    SESSION\n",
       "0                Facebook  37.179300  147860312\n",
       "1                  Google  40.210264  106075295\n",
       "2                 Tik Tok  36.108807   30658540\n",
       "3                  WeChat  25.470243   16931824\n",
       "4                    LINE  42.144873    6195707\n",
       "5                      QQ  37.726458    5750901\n",
       "6               Instagram  35.935509    5662849\n",
       "7                 YouTube  39.825651    4262572\n",
       "8                 Twitter  35.992966    2392350\n",
       "9   TrueID Streaming Live  37.159032    2085827\n",
       "10                  Apple  39.416807    1908239\n",
       "11                  Skout  35.466887    1823294\n",
       "12                 ROBLOX  41.244361     686938\n",
       "13              BIGO LIVE  36.363176     662003\n",
       "14             AIS_MOBILE  38.925081     601798\n",
       "15           LINE WEBTOON  37.834832     521546\n",
       "16          NetEase Games  36.549763     286155\n",
       "17          FIFA Online 4  36.060870     279240\n",
       "18            Google Maps  39.291667     277916\n",
       "19                4shared  38.610465     243442"
      ]
     },
     "execution_count": 99,
     "metadata": {},
     "output_type": "execute_result"
    }
   ],
   "source": [
    "data_top_20 = data_group.nlargest(20, \"SESSION\").reset_index()\n",
    "data_top_20"
   ]
  },
  {
   "cell_type": "code",
   "execution_count": 100,
   "metadata": {},
   "outputs": [
    {
     "data": {
      "image/png": "[encoded data removed]",
      "text/plain": [
       "<Figure size 432x288 with 1 Axes>"
      ]
     },
     "metadata": {
      "needs_background": "light"
     },
     "output_type": "display_data"
    }
   ],
   "source": [
    "labels = data_top_20.SERVICE\n",
    "y_pos = np.arange(len(labels))\n",
    "value = data_top_20.SESSION\n",
    "\n",
    "plt.barh(y_pos, value, align='center', alpha=1)\n",
    "plt.yticks(y_pos, labels)\n",
    "plt.xlabel('SESSION')\n",
    "plt.title('Top 20 Services')\n",
    "\n",
    "plt.show()"
   ]
  },
  {
   "cell_type": "code",
   "execution_count": 134,
   "metadata": {},
   "outputs": [],
   "source": [
    "data_group_2 = data.groupby(['SERVICE','GENDER']).agg({'AGE':'mean', 'SESSION': 'sum'}).sort_values(by='SESSION', ascending=False)\n",
    "data_group_2 = data_group_2.reset_index()"
   ]
  },
  {
   "cell_type": "code",
   "execution_count": 159,
   "metadata": {},
   "outputs": [],
   "source": [
    "df_facebook = data_group_2[data_group_2.SERVICE == 'Facebook']\n",
    "df_google = data_group_2[data_group_2.SERVICE == 'Google']\n",
    "df_tiktok = data_group_2[data_group_2.SERVICE == 'Tik Tok']\n",
    "df_wechat = data_group_2[data_group_2.SERVICE == 'WeChat']\n",
    "df_line = data_group_2[data_group_2.SERVICE == 'LINE']\n",
    "df_twitter = data_group_2[data_group_2.SERVICE == 'Twitter']"
   ]
  },
  {
   "cell_type": "code",
   "execution_count": 151,
   "metadata": {},
   "outputs": [
    {
     "data": {
      "text/html": [
       "<div>\n",
       "<style scoped>\n",
       "    .dataframe tbody tr th:only-of-type {\n",
       "        vertical-align: middle;\n",
       "    }\n",
       "\n",
       "    .dataframe tbody tr th {\n",
       "        vertical-align: top;\n",
       "    }\n",
       "\n",
       "    .dataframe thead th {\n",
       "        text-align: right;\n",
       "    }\n",
       "</style>\n",
       "<table border=\"1\" class=\"dataframe\">\n",
       "  <thead>\n",
       "    <tr style=\"text-align: right;\">\n",
       "      <th></th>\n",
       "      <th>SERVICE</th>\n",
       "      <th>GENDER</th>\n",
       "      <th>AGE</th>\n",
       "      <th>SESSION</th>\n",
       "    </tr>\n",
       "  </thead>\n",
       "  <tbody>\n",
       "    <tr>\n",
       "      <td>0</td>\n",
       "      <td>Facebook</td>\n",
       "      <td>Male</td>\n",
       "      <td>36.936552</td>\n",
       "      <td>98505604</td>\n",
       "    </tr>\n",
       "    <tr>\n",
       "      <td>2</td>\n",
       "      <td>Facebook</td>\n",
       "      <td>Female</td>\n",
       "      <td>37.690066</td>\n",
       "      <td>49354708</td>\n",
       "    </tr>\n",
       "  </tbody>\n",
       "</table>\n",
       "</div>"
      ],
      "text/plain": [
       "    SERVICE  GENDER        AGE   SESSION\n",
       "0  Facebook    Male  36.936552  98505604\n",
       "2  Facebook  Female  37.690066  49354708"
      ]
     },
     "execution_count": 151,
     "metadata": {},
     "output_type": "execute_result"
    }
   ],
   "source": [
    "df_facebook"
   ]
  },
  {
   "cell_type": "code",
   "execution_count": 150,
   "metadata": {},
   "outputs": [
    {
     "name": "stderr",
     "output_type": "stream",
     "text": [
      "C:\\Users\\Anuwat\\Anaconda3\\lib\\site-packages\\ipykernel_launcher.py:8: MatplotlibDeprecationWarning: Non-1D inputs to pie() are currently squeeze()d, but this behavior is deprecated since 3.1 and will be removed in 3.3; pass a 1D array instead.\n",
      "  \n"
     ]
    },
    {
     "data": {
      "image/png": "[encoded data removed]",
      "text/plain": [
       "<Figure size 432x288 with 1 Axes>"
      ]
     },
     "metadata": {},
     "output_type": "display_data"
    }
   ],
   "source": [
    "labels = df_facebook.GENDER\n",
    "sizes = [df_facebook.SESSION]\n",
    "colors = ['lightblue', 'lightcoral']\n",
    "explode = (0.1, 0)  # explode 1st slice\n",
    "\n",
    "# Plot\n",
    "plt.pie(sizes, explode=explode, labels=labels, colors=colors,\n",
    "autopct='%1.1f%%', shadow=True, startangle=140)\n",
    "\n",
    "plt.axis('equal')\n",
    "plt.show()"
   ]
  },
  {
   "cell_type": "code",
   "execution_count": 160,
   "metadata": {},
   "outputs": [
    {
     "data": {
      "text/html": [
       "<div>\n",
       "<style scoped>\n",
       "    .dataframe tbody tr th:only-of-type {\n",
       "        vertical-align: middle;\n",
       "    }\n",
       "\n",
       "    .dataframe tbody tr th {\n",
       "        vertical-align: top;\n",
       "    }\n",
       "\n",
       "    .dataframe thead th {\n",
       "        text-align: right;\n",
       "    }\n",
       "</style>\n",
       "<table border=\"1\" class=\"dataframe\">\n",
       "  <thead>\n",
       "    <tr style=\"text-align: right;\">\n",
       "      <th></th>\n",
       "      <th>SERVICE</th>\n",
       "      <th>GENDER</th>\n",
       "      <th>AGE</th>\n",
       "      <th>SESSION</th>\n",
       "    </tr>\n",
       "  </thead>\n",
       "  <tbody>\n",
       "    <tr>\n",
       "      <td>15</td>\n",
       "      <td>Twitter</td>\n",
       "      <td>Female</td>\n",
       "      <td>34.686475</td>\n",
       "      <td>1471556</td>\n",
       "    </tr>\n",
       "    <tr>\n",
       "      <td>20</td>\n",
       "      <td>Twitter</td>\n",
       "      <td>Male</td>\n",
       "      <td>37.539208</td>\n",
       "      <td>920794</td>\n",
       "    </tr>\n",
       "  </tbody>\n",
       "</table>\n",
       "</div>"
      ],
      "text/plain": [
       "    SERVICE  GENDER        AGE  SESSION\n",
       "15  Twitter  Female  34.686475  1471556\n",
       "20  Twitter    Male  37.539208   920794"
      ]
     },
     "execution_count": 160,
     "metadata": {},
     "output_type": "execute_result"
    }
   ],
   "source": [
    "df_twitter"
   ]
  },
  {
   "cell_type": "code",
   "execution_count": 162,
   "metadata": {},
   "outputs": [
    {
     "name": "stderr",
     "output_type": "stream",
     "text": [
      "C:\\Users\\Anuwat\\Anaconda3\\lib\\site-packages\\ipykernel_launcher.py:8: MatplotlibDeprecationWarning: Non-1D inputs to pie() are currently squeeze()d, but this behavior is deprecated since 3.1 and will be removed in 3.3; pass a 1D array instead.\n",
      "  \n"
     ]
    },
    {
     "data": {
      "image/png": "[encoded data removed]",
      "text/plain": [
       "<Figure size 432x288 with 1 Axes>"
      ]
     },
     "metadata": {},
     "output_type": "display_data"
    }
   ],
   "source": [
    "labels = df_twitter.GENDER\n",
    "sizes = [df_twitter.SESSION]\n",
    "colors = ['lightcoral', 'lightblue']\n",
    "explode = (0.1, 0)  # explode 1st slice\n",
    "\n",
    "# Plot\n",
    "plt.pie(sizes, explode=explode, labels=labels, colors=colors,\n",
    "autopct='%1.1f%%', shadow=True, startangle=140)\n",
    "\n",
    "plt.axis('equal')\n",
    "plt.show()"
   ]
  },
  {
   "cell_type": "code",
   "execution_count": 158,
   "metadata": {},
   "outputs": [
    {
     "data": {
      "text/html": [
       "<div>\n",
       "<style scoped>\n",
       "    .dataframe tbody tr th:only-of-type {\n",
       "        vertical-align: middle;\n",
       "    }\n",
       "\n",
       "    .dataframe tbody tr th {\n",
       "        vertical-align: top;\n",
       "    }\n",
       "\n",
       "    .dataframe thead th {\n",
       "        text-align: right;\n",
       "    }\n",
       "</style>\n",
       "<table border=\"1\" class=\"dataframe\">\n",
       "  <thead>\n",
       "    <tr style=\"text-align: right;\">\n",
       "      <th></th>\n",
       "      <th>SERVICE</th>\n",
       "      <th>GENDER</th>\n",
       "      <th>AGE</th>\n",
       "      <th>SESSION</th>\n",
       "    </tr>\n",
       "  </thead>\n",
       "  <tbody>\n",
       "    <tr>\n",
       "      <td>8</td>\n",
       "      <td>LINE</td>\n",
       "      <td>Female</td>\n",
       "      <td>43.349693</td>\n",
       "      <td>3257279</td>\n",
       "    </tr>\n",
       "    <tr>\n",
       "      <td>11</td>\n",
       "      <td>LINE</td>\n",
       "      <td>Male</td>\n",
       "      <td>41.318388</td>\n",
       "      <td>2938428</td>\n",
       "    </tr>\n",
       "  </tbody>\n",
       "</table>\n",
       "</div>"
      ],
      "text/plain": [
       "   SERVICE  GENDER        AGE  SESSION\n",
       "8     LINE  Female  43.349693  3257279\n",
       "11    LINE    Male  41.318388  2938428"
      ]
     },
     "execution_count": 158,
     "metadata": {},
     "output_type": "execute_result"
    }
   ],
   "source": [
    "df_line"
   ]
  },
  {
   "cell_type": "code",
   "execution_count": 163,
   "metadata": {},
   "outputs": [
    {
     "name": "stderr",
     "output_type": "stream",
     "text": [
      "C:\\Users\\Anuwat\\Anaconda3\\lib\\site-packages\\ipykernel_launcher.py:8: MatplotlibDeprecationWarning: Non-1D inputs to pie() are currently squeeze()d, but this behavior is deprecated since 3.1 and will be removed in 3.3; pass a 1D array instead.\n",
      "  \n"
     ]
    },
    {
     "data": {
      "image/png": "[encoded data removed]",
      "text/plain": [
       "<Figure size 432x288 with 1 Axes>"
      ]
     },
     "metadata": {},
     "output_type": "display_data"
    }
   ],
   "source": [
    "labels = df_line.GENDER\n",
    "sizes = [df_line.SESSION]\n",
    "colors = ['lightcoral', 'lightblue']\n",
    "explode = (0.1, 0)  # explode 1st slice\n",
    "\n",
    "# Plot\n",
    "plt.pie(sizes, explode=explode, labels=labels, colors=colors,\n",
    "autopct='%1.1f%%', shadow=True, startangle=140)\n",
    "\n",
    "plt.axis('equal')\n",
    "plt.show()"
   ]
  },
  {
   "cell_type": "code",
   "execution_count": 164,
   "metadata": {},
   "outputs": [
    {
     "data": {
      "text/html": [
       "<div>\n",
       "<style scoped>\n",
       "    .dataframe tbody tr th:only-of-type {\n",
       "        vertical-align: middle;\n",
       "    }\n",
       "\n",
       "    .dataframe tbody tr th {\n",
       "        vertical-align: top;\n",
       "    }\n",
       "\n",
       "    .dataframe thead th {\n",
       "        text-align: right;\n",
       "    }\n",
       "</style>\n",
       "<table border=\"1\" class=\"dataframe\">\n",
       "  <thead>\n",
       "    <tr style=\"text-align: right;\">\n",
       "      <th></th>\n",
       "      <th>GENDER</th>\n",
       "      <th>AGE</th>\n",
       "      <th>SERVICE</th>\n",
       "      <th>SESSION</th>\n",
       "    </tr>\n",
       "  </thead>\n",
       "  <tbody>\n",
       "    <tr>\n",
       "      <td>0</td>\n",
       "      <td>Female</td>\n",
       "      <td>48</td>\n",
       "      <td>Google Cloud Messaging</td>\n",
       "      <td>6</td>\n",
       "    </tr>\n",
       "    <tr>\n",
       "      <td>1</td>\n",
       "      <td>Female</td>\n",
       "      <td>47</td>\n",
       "      <td>Google</td>\n",
       "      <td>92</td>\n",
       "    </tr>\n",
       "    <tr>\n",
       "      <td>2</td>\n",
       "      <td>Male</td>\n",
       "      <td>40</td>\n",
       "      <td>Facebook</td>\n",
       "      <td>537</td>\n",
       "    </tr>\n",
       "    <tr>\n",
       "      <td>3</td>\n",
       "      <td>Male</td>\n",
       "      <td>40</td>\n",
       "      <td>Skout</td>\n",
       "      <td>884</td>\n",
       "    </tr>\n",
       "    <tr>\n",
       "      <td>4</td>\n",
       "      <td>Male</td>\n",
       "      <td>38</td>\n",
       "      <td>Google</td>\n",
       "      <td>407</td>\n",
       "    </tr>\n",
       "    <tr>\n",
       "      <td>...</td>\n",
       "      <td>...</td>\n",
       "      <td>...</td>\n",
       "      <td>...</td>\n",
       "      <td>...</td>\n",
       "    </tr>\n",
       "    <tr>\n",
       "      <td>394309</td>\n",
       "      <td>Female</td>\n",
       "      <td>35</td>\n",
       "      <td>Google</td>\n",
       "      <td>57</td>\n",
       "    </tr>\n",
       "    <tr>\n",
       "      <td>394310</td>\n",
       "      <td>Male</td>\n",
       "      <td>27</td>\n",
       "      <td>Google</td>\n",
       "      <td>724</td>\n",
       "    </tr>\n",
       "    <tr>\n",
       "      <td>394311</td>\n",
       "      <td>Male</td>\n",
       "      <td>49</td>\n",
       "      <td>Google</td>\n",
       "      <td>565</td>\n",
       "    </tr>\n",
       "    <tr>\n",
       "      <td>394312</td>\n",
       "      <td>Male</td>\n",
       "      <td>33</td>\n",
       "      <td>Lazada</td>\n",
       "      <td>129</td>\n",
       "    </tr>\n",
       "    <tr>\n",
       "      <td>394313</td>\n",
       "      <td>Female</td>\n",
       "      <td>6</td>\n",
       "      <td>Facebook</td>\n",
       "      <td>199</td>\n",
       "    </tr>\n",
       "  </tbody>\n",
       "</table>\n",
       "<p>394314 rows × 4 columns</p>\n",
       "</div>"
      ],
      "text/plain": [
       "        GENDER  AGE                 SERVICE  SESSION\n",
       "0       Female   48  Google Cloud Messaging        6\n",
       "1       Female   47                  Google       92\n",
       "2         Male   40                Facebook      537\n",
       "3         Male   40                   Skout      884\n",
       "4         Male   38                  Google      407\n",
       "...        ...  ...                     ...      ...\n",
       "394309  Female   35                  Google       57\n",
       "394310    Male   27                  Google      724\n",
       "394311    Male   49                  Google      565\n",
       "394312    Male   33                  Lazada      129\n",
       "394313  Female    6                Facebook      199\n",
       "\n",
       "[394314 rows x 4 columns]"
      ]
     },
     "execution_count": 164,
     "metadata": {},
     "output_type": "execute_result"
    }
   ],
   "source": [
    "data"
   ]
  },
  {
   "cell_type": "code",
   "execution_count": 216,
   "metadata": {},
   "outputs": [
    {
     "data": {
      "text/plain": [
       "array(['Male'], dtype='<U4')"
      ]
     },
     "execution_count": 216,
     "metadata": {},
     "output_type": "execute_result"
    }
   ],
   "source": [
    "dc = sklearn.dummy.DummyClassifier(strategy='most_frequent')\n",
    "dc.fit(data[['AGE', 'SERVICE', 'SESSION']], data.GENDER)\n",
    "dc.predict([[True, 'Twitter', True]])"
   ]
  },
  {
   "cell_type": "code",
   "execution_count": null,
   "metadata": {},
   "outputs": [],
   "source": []
  },
  {
   "cell_type": "code",
   "execution_count": 76,
   "metadata": {},
   "outputs": [],
   "source": [
    "# g1.get_group('Facebook')\n",
    "# data[['SERVICE']].count()\n",
    "# data_mean = data.groupby('SERVICE').mean()"
   ]
  },
  {
   "cell_type": "code",
   "execution_count": null,
   "metadata": {},
   "outputs": [],
   "source": []
  },
  {
   "cell_type": "code",
   "execution_count": null,
   "metadata": {},
   "outputs": [],
   "source": []
  },
  {
   "cell_type": "code",
   "execution_count": null,
   "metadata": {},
   "outputs": [],
   "source": []
  },
  {
   "cell_type": "code",
   "execution_count": null,
   "metadata": {},
   "outputs": [],
   "source": []
  },
  {
   "cell_type": "code",
   "execution_count": null,
   "metadata": {},
   "outputs": [],
   "source": []
  },
  {
   "cell_type": "code",
   "execution_count": null,
   "metadata": {},
   "outputs": [],
   "source": []
  },
  {
   "cell_type": "code",
   "execution_count": null,
   "metadata": {},
   "outputs": [],
   "source": []
  },
  {
   "cell_type": "code",
   "execution_count": null,
   "metadata": {},
   "outputs": [],
   "source": []
  },
  {
   "cell_type": "code",
   "execution_count": null,
   "metadata": {},
   "outputs": [],
   "source": []
  },
  {
   "cell_type": "code",
   "execution_count": null,
   "metadata": {},
   "outputs": [],
   "source": []
  }
 ],
 "metadata": {
  "kernelspec": {
   "display_name": "Python 3",
   "language": "python",
   "name": "python3"
  },
  "language_info": {
   "codemirror_mode": {
    "name": "ipython",
    "version": 3
   },
   "file_extension": ".py",
   "mimetype": "text/x-python",
   "name": "python",
   "nbconvert_exporter": "python",
   "pygments_lexer": "ipython3",
   "version": "3.7.4"
  }
 },
 "nbformat": 4,
 "nbformat_minor": 2
}
